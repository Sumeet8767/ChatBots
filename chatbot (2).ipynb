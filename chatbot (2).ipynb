{
 "cells": [
  {
   "cell_type": "code",
   "execution_count": 1,
   "id": "c33d1661-7621-4ef2-9793-773bd3b7e673",
   "metadata": {},
   "outputs": [],
   "source": [
    "import os\n",
    "os.environ[\"HF_HUB_DISABLE_SYMLINKS_WARNING\"] = \"1\"\n"
   ]
  },
  {
   "cell_type": "code",
   "execution_count": 2,
   "id": "a8781b43-862c-4067-be39-15a95b73dba3",
   "metadata": {},
   "outputs": [],
   "source": [
    "from transformers import AutoModelForSeq2SeqLM, AutoTokenizer\n"
   ]
  },
  {
   "cell_type": "code",
   "execution_count": 3,
   "id": "9e124d33-c6b7-4545-924d-d0b074b63486",
   "metadata": {},
   "outputs": [],
   "source": [
    "import tkinter as tk\n",
    "from tkinter import scrolledtext\n",
    "from transformers import AutoModelForSeq2SeqLM, AutoTokenizer\n",
    "import requests\n",
    "import wikipedia\n",
    "import wolframalpha"
   ]
  },
  {
   "cell_type": "code",
   "execution_count": null,
   "id": "e6166da9-b6a1-46e6-829c-608b298035d0",
   "metadata": {},
   "outputs": [],
   "source": [
    "# Load Hugging Face Chatbot Model\n",
    "model_name = \"facebook/blenderbot-400M-distill\"\n",
    "tokenizer = AutoTokenizer.from_pretrained(model_name)\n",
    "model = AutoModelForSeq2SeqLM.from_pretrained(model_name)\n"
   ]
  },
  {
   "cell_type": "code",
   "execution_count": null,
   "id": "589ac49c-a6d1-480f-bf55-33be530e290b",
   "metadata": {},
   "outputs": [],
   "source": [
    "# API Keys (Replace with your keys)\n",
    "WOLFRAM_API_KEY = \"2QAQGW-XGQ65KE4KP\"\n",
    "WEATHER_API_KEY = \"fc904dd228fe02d3838ff46e02cc69e0\"\n",
    "NEWS_API_KEY = \"44d42e5d5c0049bfacf25335183cfd7b\""
   ]
  },
  {
   "cell_type": "code",
   "execution_count": null,
   "id": "67b21c43-2f1c-49c3-bc1a-bb9a54bdb125",
   "metadata": {},
   "outputs": [],
   "source": [
    "# WolframAlpha Client\n",
    "wolfram_client = wolframalpha.Client(WOLFRAM_API_KEY)"
   ]
  },
  {
   "cell_type": "code",
   "execution_count": null,
   "id": "6bccd323-b2dc-43e3-b151-b357be019768",
   "metadata": {},
   "outputs": [],
   "source": [
    "def get_wikipedia_answer(query):\n",
    "    try:\n",
    "        query = query.replace(\"who is\", \"\").replace(\"what is\", \"\").strip()\n",
    "        result = wikipedia.summary(query, sentences=5)  # Increased to 5 sentences\n",
    "        return result\n",
    "    except wikipedia.exceptions.DisambiguationError as e:\n",
    "        return f\"Your query is too broad. Try searching for: {', '.join(e.options[:3])}\"\n",
    "    except wikipedia.exceptions.PageError:\n",
    "        return \"I couldn't find an answer on Wikipedia.\"\n",
    "    except Exception as e:\n",
    "        return f\"Error retrieving Wikipedia data: {str(e)}\"\n"
   ]
  },
  {
   "cell_type": "code",
   "execution_count": null,
   "id": "e574ebeb-8a0e-4482-ac21-3a5bcdcd6a68",
   "metadata": {},
   "outputs": [],
   "source": [
    "def get_wolfram_answer(query):\n",
    "    try:\n",
    "        query = query.replace(\"calculate\", \"\").replace(\"solve\", \"\").strip()\n",
    "        res = wolfram_client.query(query)\n",
    "        pods = [pod.text for pod in res.pods if pod.text]\n",
    "\n",
    "        if pods:\n",
    "            return \" \".join(pods[:3])  # Take the first 3 meaningful responses\n",
    "        else:\n",
    "            return \"I couldn't solve that. Try rephrasing your question.\"\n",
    "    except:\n",
    "        return \"I couldn't solve that. Try rephrasing your question.\"\n"
   ]
  },
  {
   "cell_type": "code",
   "execution_count": null,
   "id": "e293fae2-e785-4c32-8268-634ed1fa10e0",
   "metadata": {},
   "outputs": [],
   "source": [
    "weather_api_key = \"fc904dd228fe02d3838ff46e02cc69e0\"\n",
    "\n",
    "def get_weather(city):\n",
    "    try:\n",
    "        city = city.replace(\"weather in\", \"\").strip()\n",
    "        url = f\"http://api.openweathermap.org/data/2.5/weather?q={city}&appid={weather_api_key}&units=metric\"\n",
    "        response = requests.get(url).json()\n",
    "        \n",
    "        if response.get(\"cod\") != 200:\n",
    "            return f\"Sorry, I couldn't find the weather for {city}.\"\n",
    "\n",
    "        temperature = response[\"main\"][\"temp\"]\n",
    "        description = response[\"weather\"][0][\"description\"]\n",
    "        return f\"The temperature in {city} is {temperature}°C with {description}.\"\n",
    "    except Exception as e:\n",
    "        return f\"Error retrieving weather data: {str(e)}\"\n"
   ]
  },
  {
   "cell_type": "code",
   "execution_count": null,
   "id": "7ccb1593-553a-4725-8908-8ba3a73b51c1",
   "metadata": {},
   "outputs": [],
   "source": [
    "# News Function\n",
    "def get_news():\n",
    "    try:\n",
    "        url = f\"https://newsapi.org/v2/top-headlines?country=us&apiKey={NEWS_API_KEY}\"\n",
    "        response = requests.get(url).json()\n",
    "        articles = response[\"articles\"][:5]\n",
    "        return \"\\n\".join([f\"🔹 {article['title']}\" for article in articles])\n",
    "    except:\n",
    "        return \"Couldn't fetch news.\""
   ]
  },
  {
   "cell_type": "code",
   "execution_count": null,
   "id": "2b370d29-7deb-4d85-9ba0-b06d4e659531",
   "metadata": {},
   "outputs": [],
   "source": [
    "def chatbot_response(user_input):\n",
    "    user_input_lower = user_input.lower()\n",
    "\n",
    "    if \"who is\" in user_input_lower or \"what is\" in user_input_lower:\n",
    "        return get_wikipedia_answer(user_input)\n",
    "    elif \"calculate\" in user_input_lower or \"solve\" in user_input_lower:\n",
    "        return get_wolfram_answer(user_input)\n",
    "    elif \"weather in\" in user_input_lower:\n",
    "        city = user_input_lower.replace(\"weather in\", \"\").strip()\n",
    "        return get_weather(city)\n",
    "    elif \"latest news\" in user_input_lower:\n",
    "        return get_news()\n",
    "    else:\n",
    "        # Tokenize user input\n",
    "        inputs = tokenizer(user_input, return_tensors=\"pt\", padding=True, truncation=True)\n",
    "\n",
    "        # Generate response with increased length\n",
    "        response_ids = model.generate(\n",
    "            inputs[\"input_ids\"], \n",
    "            attention_mask=inputs[\"attention_mask\"],  \n",
    "            max_length=300,  # Increased max_length for longer responses\n",
    "            pad_token_id=tokenizer.eos_token_id\n",
    "        )\n",
    "        \n",
    "        return tokenizer.decode(response_ids[0], skip_special_tokens=True)\n"
   ]
  },
  {
   "cell_type": "code",
   "execution_count": null,
   "id": "4810b761-cc70-4782-9945-5bb3765d5c94",
   "metadata": {},
   "outputs": [],
   "source": [
    "# GUI Setup\n",
    "def send_message(event=None):\n",
    "    user_text = user_input.get()\n",
    "    if user_text.strip():\n",
    "        chat_display.config(state=tk.NORMAL)\n",
    "        chat_display.insert(tk.END, f\"🧑 You: {user_text}\\n\", \"user\")\n",
    "        chat_display.config(state=tk.DISABLED)\n",
    "\n",
    "        response = chatbot_response(user_text)\n",
    "\n",
    "        chat_display.config(state=tk.NORMAL)\n",
    "        chat_display.insert(tk.END, f\"🤖 Chatbot: {response}\\n\", \"bot\")\n",
    "        chat_display.config(state=tk.DISABLED)\n",
    "\n",
    "        chat_display.yview(tk.END)\n",
    "        user_input.delete(0, tk.END)"
   ]
  },
  {
   "cell_type": "code",
   "execution_count": null,
   "id": "ed141c63-e543-40f2-9379-31b79fd858c5",
   "metadata": {},
   "outputs": [],
   "source": [
    "# GUI Window\n",
    "root = tk.Tk()\n",
    "root.title(\"AI Chatbot\")\n",
    "root.geometry(\"500x650\")\n",
    "root.configure(bg=\"#222831\")\n"
   ]
  },
  {
   "cell_type": "code",
   "execution_count": null,
   "id": "8a83fc1d-905c-451c-a01b-c3fa8dc7a529",
   "metadata": {},
   "outputs": [],
   "source": [
    "# Chat Display\n",
    "chat_display = scrolledtext.ScrolledText(root, state=tk.DISABLED, wrap=tk.WORD, bg=\"#393E46\", fg=\"white\", font=(\"Arial\", 12))\n",
    "chat_display.pack(pady=10, padx=10, expand=True, fill=tk.BOTH)"
   ]
  },
  {
   "cell_type": "code",
   "execution_count": null,
   "id": "0216c3b0-9c0c-45c1-bc32-12538bde547e",
   "metadata": {},
   "outputs": [],
   "source": [
    "# Input Frame\n",
    "input_frame = tk.Frame(root, bg=\"#222831\")\n",
    "input_frame.pack(pady=5, padx=10, fill=tk.X)"
   ]
  },
  {
   "cell_type": "code",
   "execution_count": null,
   "id": "e7af993e-4bb2-42b0-8a5c-53b68d5b6656",
   "metadata": {},
   "outputs": [],
   "source": [
    "# Input Field\n",
    "user_input = tk.Entry(input_frame, width=50, font=(\"Arial\", 12), bg=\"#EEEEEE\", fg=\"black\")\n",
    "user_input.pack(side=tk.LEFT, expand=True, fill=tk.X, padx=5, pady=5)\n",
    "user_input.bind(\"<Return>\", send_message)\n"
   ]
  },
  {
   "cell_type": "code",
   "execution_count": null,
   "id": "db7954a3-96df-4a26-9bb4-1538bc51a9b8",
   "metadata": {},
   "outputs": [],
   "source": [
    "# Send Button\n",
    "send_button = tk.Button(input_frame, text=\"Send\", command=send_message, font=(\"Arial\", 12), bg=\"#00ADB5\", fg=\"white\", padx=10)\n",
    "send_button.pack(side=tk.RIGHT, padx=5, pady=5)"
   ]
  },
  {
   "cell_type": "code",
   "execution_count": null,
   "id": "ec8179ef-612c-4179-b63e-fc2808cc2b36",
   "metadata": {},
   "outputs": [],
   "source": [
    "# Run GUI\n",
    "root.mainloop()"
   ]
  },
  {
   "cell_type": "code",
   "execution_count": null,
   "id": "e6bdf816-e17b-4f95-b14f-e60ff46a365d",
   "metadata": {},
   "outputs": [],
   "source": []
  },
  {
   "cell_type": "code",
   "execution_count": null,
   "id": "60394de6-f325-4973-b5bf-eb2e3d3e96ed",
   "metadata": {},
   "outputs": [],
   "source": []
  }
 ],
 "metadata": {
  "kernelspec": {
   "display_name": "Python 3 (ipykernel)",
   "language": "python",
   "name": "python3"
  },
  "language_info": {
   "codemirror_mode": {
    "name": "ipython",
    "version": 3
   },
   "file_extension": ".py",
   "mimetype": "text/x-python",
   "name": "python",
   "nbconvert_exporter": "python",
   "pygments_lexer": "ipython3",
   "version": "3.12.3"
  }
 },
 "nbformat": 4,
 "nbformat_minor": 5
}
